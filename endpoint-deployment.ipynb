{
  "cells": [
    {
      "cell_type": "code",
      "source": [
        "from azureml.core import Workspace\n",
        "ws = Workspace(subscription_id=\"5c876182-c978-44b4-8f75-061a8291986e\",\n",
        "               resource_group=\"cpttrgdev\",\n",
        "               workspace_name=\"price-transparency-dev\")"
      ],
      "outputs": [],
      "execution_count": 3,
      "metadata": {
        "gather": {
          "logged": 1665623504384
        }
      }
    },
    {
      "cell_type": "code",
      "source": [
        "from azureml.core.webservice import Webservice\n",
        "service = Webservice(workspace=ws, name='udacity-deployment-course-endpoint')"
      ],
      "outputs": [],
      "execution_count": 5,
      "metadata": {
        "jupyter": {
          "source_hidden": false,
          "outputs_hidden": false
        },
        "nteract": {
          "transient": {
            "deleting": false
          }
        },
        "gather": {
          "logged": 1665628569930
        }
      }
    },
    {
      "cell_type": "code",
      "source": [
        "service.update(enable_app_insights=True)"
      ],
      "outputs": [
        {
          "output_type": "error",
          "ename": "TypeError",
          "evalue": "update() got an unexpected keyword argument 'enable_app_insights'",
          "traceback": [
            "\u001b[0;31m---------------------------------------------------------------------------\u001b[0m",
            "\u001b[0;31mTypeError\u001b[0m                                 Traceback (most recent call last)",
            "Input \u001b[0;32mIn [6]\u001b[0m, in \u001b[0;36m<cell line: 1>\u001b[0;34m()\u001b[0m\n\u001b[0;32m----> 1\u001b[0m \u001b[43mservice\u001b[49m\u001b[38;5;241;43m.\u001b[39;49m\u001b[43mupdate\u001b[49m\u001b[43m(\u001b[49m\u001b[43menable_app_insights\u001b[49m\u001b[38;5;241;43m=\u001b[39;49m\u001b[38;5;28;43;01mTrue\u001b[39;49;00m\u001b[43m)\u001b[49m\n",
            "\u001b[0;31mTypeError\u001b[0m: update() got an unexpected keyword argument 'enable_app_insights'"
          ]
        }
      ],
      "execution_count": 6,
      "metadata": {
        "jupyter": {
          "source_hidden": false,
          "outputs_hidden": false
        },
        "nteract": {
          "transient": {
            "deleting": false
          }
        },
        "gather": {
          "logged": 1665628589197
        }
      }
    },
    {
      "cell_type": "code",
      "source": [
        "logs = service.get_logs()\n",
        "for line in logs.split('\\n'):\n",
        "    print(line)"
      ],
      "outputs": [
        {
          "output_type": "stream",
          "name": "stdout",
          "text": "Instance status:\nSystemSetup: Succeeded\nUserContainerImagePull: Succeeded\nModelDownload: Succeeded\nUserContainerStart: Succeeded\n\nContainer events:\nKind: Pod, Name: Pulling, Type: Normal, Time: 2022-10-12T20:15:04.479853Z, Message: Start pulling container image\nKind: Pod, Name: Downloading, Type: Normal, Time: 2022-10-12T20:15:04.846534Z, Message: Start downloading models\nKind: Pod, Name: Pulled, Type: Normal, Time: 2022-10-12T20:16:33.726133Z, Message: Container image is pulled successfully\nKind: Pod, Name: Downloaded, Type: Normal, Time: 2022-10-12T20:16:33.726133Z, Message: Models are downloaded successfully\nKind: Pod, Name: Created, Type: Normal, Time: 2022-10-12T20:16:33.838624Z, Message: Created container inference-server\nKind: Pod, Name: Started, Type: Normal, Time: 2022-10-12T20:16:33.92498Z, Message: Started container inference-server\nKind: Pod, Name: ContainerReady, Type: Normal, Time: 2022-10-12T20:16:47.175102861Z, Message: Container is ready\n\nContainer logs:\n2022-10-12T20:16:33,921906868+00:00 - nginx/run \n2022-10-12T20:16:33,925174909+00:00 - rsyslog/run \n2022-10-12T20:16:33,927763340+00:00 - iot-server/run \n2022-10-12T20:16:33,927308535+00:00 - gunicorn/run \nDynamic Python package installation is disabled.\nStarting HTTP server\nrsyslogd: /azureml-envs/azureml_2e749d748707b6dae1f9e16287d17b3d/lib/libuuid.so.1: no version information available (required by rsyslogd)\nEdgeHubConnectionString and IOTEDGE_IOTHUBHOSTNAME are not set. Exiting...\n2022-10-12T20:16:34,015873456+00:00 - iot-server/finish 1 0\n2022-10-12T20:16:34,017195690+00:00 - Exit code 1 is normal. Not restarting iot-server.\nStarting gunicorn 20.1.0\nListening at: http://127.0.0.1:31311 (10)\nUsing worker: sync\nworker timeout is set to 300\nBooting worker with pid: 38\nSPARK_HOME not set. Skipping PySpark Initialization.\nInitializing logger\n2022-10-12 20:16:34,566 | root | INFO | Starting up app insights client\nlogging socket was found. logging is available.\nlogging socket was found. logging is available.\n2022-10-12 20:16:34,566 | root | INFO | Starting up request id generator\n2022-10-12 20:16:34,566 | root | INFO | Starting up app insight hooks\n2022-10-12 20:16:34,566 | root | INFO | Invoking user's init function\ngenerated new fontManager\nImporting plotly failed. Interactive plots will not work.\n2022-10-12 20:16:39,069 | root | INFO | Users's init has completed successfully\n2022-10-12 20:16:39,077 | root | INFO | Skipping middleware: dbg_model_info as it's not enabled.\n2022-10-12 20:16:39,077 | root | INFO | Skipping middleware: dbg_resource_usage as it's not enabled.\nGenerating swagger file: /tmp/tmp1clzx23_\n2022-10-12 20:16:39,079 | root | INFO | Scoring timeout setting is not found. Use default timeout: 3600000 ms\n2022-10-12 20:27:00,679 | root | INFO | 200\n127.0.0.1 - - [12/Oct/2022:20:27:00 +0000] \"GET /swagger.json HTTP/1.0\" 200 3874 \"-\" \"-\"\n2022-10-12 20:27:14,043 | root | INFO | 200\n127.0.0.1 - - [12/Oct/2022:20:27:14 +0000] \"GET /swagger.json HTTP/1.0\" 200 3874 \"-\" \"-\"\n2022-10-13 01:45:50,195 | root | INFO | 200\n127.0.0.1 - - [13/Oct/2022:01:45:50 +0000] \"GET /swagger.json HTTP/1.0\" 200 3874 \"-\" \"-\"\n2022-10-13 01:45:53,561 | root | INFO | Validation Request Content-Type\n2022-10-13 01:45:53,561 | root | INFO | Scoring Timer is set to 3600.0 seconds\n2022-10-13 01:45:53,614 | root | INFO | 200\n127.0.0.1 - - [13/Oct/2022:01:45:53 +0000] \"POST /score?verbose=true HTTP/1.0\" 200 19 \"-\" \"-\"\n2022-10-13 01:49:08,541 | root | INFO | Validation Request Content-Type\n2022-10-13 01:49:08,543 | root | ERROR | Encountered Exception: Traceback (most recent call last):\n  File \"/azureml-envs/azureml_2e749d748707b6dae1f9e16287d17b3d/lib/python3.7/site-packages/werkzeug/wrappers/json.py\", line 119, in get_json\n    rv = self.json_module.loads(data)\n  File \"/azureml-envs/azureml_2e749d748707b6dae1f9e16287d17b3d/lib/python3.7/site-packages/flask/json/__init__.py\", line 253, in loads\n    return _json.loads(s, **kwargs)\n  File \"/azureml-envs/azureml_2e749d748707b6dae1f9e16287d17b3d/lib/python3.7/json/__init__.py\", line 361, in loads\n    return cls(**kw).decode(s)\n  File \"/azureml-envs/azureml_2e749d748707b6dae1f9e16287d17b3d/lib/python3.7/json/decoder.py\", line 337, in decode\n    obj, end = self.raw_decode(s, idx=_w(s, 0).end())\n  File \"/azureml-envs/azureml_2e749d748707b6dae1f9e16287d17b3d/lib/python3.7/json/decoder.py\", line 353, in raw_decode\n    obj, end = self.scan_once(s, idx)\njson.decoder.JSONDecodeError: Expecting ',' delimiter: line 20 column 26 (char 459)\n\nDuring handling of the above exception, another exception occurred:\n\nTraceback (most recent call last):\n  File \"/azureml-envs/azureml_2e749d748707b6dae1f9e16287d17b3d/lib/python3.7/site-packages/flask/app.py\", line 1950, in full_dispatch_request\n    rv = self.dispatch_request()\n  File \"/azureml-envs/azureml_2e749d748707b6dae1f9e16287d17b3d/lib/python3.7/site-packages/flask/app.py\", line 1936, in dispatch_request\n    return self.view_functions[rule.endpoint](**req.view_args)\n  File \"/var/azureml-server/synchronous/routes.py\", line 38, in score_realtime\n    service_input = request.get_json()\n  File \"/azureml-envs/azureml_2e749d748707b6dae1f9e16287d17b3d/lib/python3.7/site-packages/werkzeug/wrappers/json.py\", line 128, in get_json\n    rv = self.on_json_loading_failed(e)\n  File \"/azureml-envs/azureml_2e749d748707b6dae1f9e16287d17b3d/lib/python3.7/site-packages/flask/wrappers.py\", line 27, in on_json_loading_failed\n    raise BadRequest()\nwerkzeug.exceptions.BadRequest: 400 Bad Request: The browser (or proxy) sent a request that this server could not understand.\n\n2022-10-13 01:49:08,543 | root | INFO | 500\n127.0.0.1 - - [13/Oct/2022:01:49:08 +0000] \"POST /score?verbose=true HTTP/1.0\" 500 2077 \"-\" \"-\"\n2022-10-13 01:49:35,385 | root | INFO | Validation Request Content-Type\n2022-10-13 01:49:35,385 | root | INFO | Scoring Timer is set to 3600.0 seconds\n2022-10-13 01:49:35,435 | root | INFO | 200\n127.0.0.1 - - [13/Oct/2022:01:49:35 +0000] \"POST /score?verbose=true HTTP/1.0\" 200 19 \"-\" \"-\"\n2022-10-13 01:49:56,900 | root | INFO | 200\n127.0.0.1 - - [13/Oct/2022:01:49:56 +0000] \"GET /swagger.json HTTP/1.0\" 200 3874 \"-\" \"-\"\n2022-10-13 01:49:56,926 | root | INFO | 200\n127.0.0.1 - - [13/Oct/2022:01:49:56 +0000] \"GET /swagger.json HTTP/1.0\" 200 3874 \"-\" \"-\"\n2022-10-13 01:50:03,955 | root | INFO | 200\n127.0.0.1 - - [13/Oct/2022:01:50:03 +0000] \"GET /swagger.json HTTP/1.0\" 200 3874 \"-\" \"-\"\n\n\n"
        }
      ],
      "execution_count": 7,
      "metadata": {
        "jupyter": {
          "source_hidden": false,
          "outputs_hidden": false
        },
        "nteract": {
          "transient": {
            "deleting": false
          }
        },
        "gather": {
          "logged": 1665628607948
        }
      }
    },
    {
      "cell_type": "code",
      "source": [],
      "outputs": [],
      "execution_count": null,
      "metadata": {
        "jupyter": {
          "source_hidden": false,
          "outputs_hidden": false
        },
        "nteract": {
          "transient": {
            "deleting": false
          }
        }
      }
    }
  ],
  "metadata": {
    "kernelspec": {
      "name": "python38-azureml",
      "language": "python",
      "display_name": "Python 3.8 - AzureML"
    },
    "language_info": {
      "name": "python",
      "version": "3.8.5",
      "mimetype": "text/x-python",
      "codemirror_mode": {
        "name": "ipython",
        "version": 3
      },
      "pygments_lexer": "ipython3",
      "nbconvert_exporter": "python",
      "file_extension": ".py"
    },
    "kernel_info": {
      "name": "python38-azureml"
    },
    "microsoft": {
      "host": {
        "AzureML": {
          "notebookHasBeenCompleted": true
        }
      }
    },
    "nteract": {
      "version": "nteract-front-end@1.0.0"
    }
  },
  "nbformat": 4,
  "nbformat_minor": 2
}